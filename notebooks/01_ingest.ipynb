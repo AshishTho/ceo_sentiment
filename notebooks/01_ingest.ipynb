{
 "cells": [
  {
   "cell_type": "code",
   "execution_count": null,
   "id": "526a7948",
   "metadata": {},
   "outputs": [],
   "source": [
    "import pandas as pd, datetime as dt\n",
    "from google.cloud import bigquery\n",
    "from pathlib import Path\n",
    "\n",
    "events = pd.read_csv(\"../data_raw/ceo_events.csv\", parse_dates=[\"event_date\"])\n",
    "client = bigquery.Client(project=\"bigquery-public-data\")\n",
    "\n",
    "rows=[]\n",
    "for _, ev in events.iterrows():\n",
    "    s = (ev.event_date-pd.Timedelta(days=7)).strftime(\"%Y-%m-%d\")\n",
    "    e = (ev.event_date+pd.Timedelta(days=7)).strftime(\"%Y-%m-%d\")\n",
    "    q=f\"\"\"\n",
    "    SELECT created_utc, title\n",
    "    FROM `fh-bigquery.reddit_posts.posts`\n",
    "    WHERE subreddit='stocks'\n",
    "      AND created_utc BETWEEN '{s}' AND '{e}'\n",
    "      AND LOWER(title) LIKE '%{ev.ticker.lower()}%'\n",
    "    \"\"\"\n",
    "    df=client.query(q).to_dataframe()\n",
    "    df[\"ticker\"]=ev.ticker; df[\"event_date\"]=ev.event_date; rows.append(df)\n",
    "\n",
    "posts=pd.concat(rows)\n",
    "Path(\"../data_raw/reddit\").mkdir(exist_ok=True)\n",
    "posts.to_parquet(\"../data_raw/reddit/rstocks_posts.parquet\")\n",
    "posts.head()\n"
   ]
  }
 ],
 "metadata": {
  "kernelspec": {
   "display_name": "ceonlp",
   "language": "python",
   "name": "python3"
  },
  "language_info": {
   "name": "python",
   "version": "3.11.13"
  }
 },
 "nbformat": 4,
 "nbformat_minor": 5
}
