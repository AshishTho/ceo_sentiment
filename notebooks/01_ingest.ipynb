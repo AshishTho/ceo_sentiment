{
 "cells": [
  {
   "cell_type": "code",
   "execution_count": 1,
   "id": "526a7948",
   "metadata": {},
   "outputs": [
    {
     "ename": "DefaultCredentialsError",
     "evalue": "Your default credentials were not found. To set up Application Default Credentials, see https://cloud.google.com/docs/authentication/external/set-up-adc for more information.",
     "output_type": "error",
     "traceback": [
      "\u001b[31m---------------------------------------------------------------------------\u001b[39m",
      "\u001b[31mDefaultCredentialsError\u001b[39m                   Traceback (most recent call last)",
      "\u001b[36mCell\u001b[39m\u001b[36m \u001b[39m\u001b[32mIn[1]\u001b[39m\u001b[32m, line 6\u001b[39m\n\u001b[32m      3\u001b[39m \u001b[38;5;28;01mfrom\u001b[39;00m\u001b[38;5;250m \u001b[39m\u001b[34;01mpathlib\u001b[39;00m\u001b[38;5;250m \u001b[39m\u001b[38;5;28;01mimport\u001b[39;00m Path\n\u001b[32m      5\u001b[39m events = pd.read_csv(\u001b[33m\"\u001b[39m\u001b[33m../data_raw/ceo_events.csv\u001b[39m\u001b[33m\"\u001b[39m, parse_dates=[\u001b[33m\"\u001b[39m\u001b[33mevent_date\u001b[39m\u001b[33m\"\u001b[39m])\n\u001b[32m----> \u001b[39m\u001b[32m6\u001b[39m client = \u001b[43mbigquery\u001b[49m\u001b[43m.\u001b[49m\u001b[43mClient\u001b[49m\u001b[43m(\u001b[49m\u001b[43mproject\u001b[49m\u001b[43m=\u001b[49m\u001b[33;43m\"\u001b[39;49m\u001b[33;43mbigquery-public-data\u001b[39;49m\u001b[33;43m\"\u001b[39;49m\u001b[43m)\u001b[49m\n\u001b[32m      8\u001b[39m rows=[]\n\u001b[32m      9\u001b[39m \u001b[38;5;28;01mfor\u001b[39;00m _, ev \u001b[38;5;129;01min\u001b[39;00m events.iterrows():\n",
      "\u001b[36mFile \u001b[39m\u001b[32mc:\\Users\\Ashis\\miniconda3\\envs\\ceonlp\\Lib\\site-packages\\google\\cloud\\bigquery\\client.py:258\u001b[39m, in \u001b[36mClient.__init__\u001b[39m\u001b[34m(self, project, credentials, _http, location, default_query_job_config, default_load_job_config, client_info, client_options, default_job_creation_mode)\u001b[39m\n\u001b[32m    255\u001b[39m     client_options = google.api_core.client_options.from_dict(client_options)\n\u001b[32m    256\u001b[39m \u001b[38;5;66;03m# assert isinstance(client_options, google.api_core.client_options.ClientOptions)\u001b[39;00m\n\u001b[32m--> \u001b[39m\u001b[32m258\u001b[39m \u001b[38;5;28;43msuper\u001b[39;49m\u001b[43m(\u001b[49m\u001b[43mClient\u001b[49m\u001b[43m,\u001b[49m\u001b[43m \u001b[49m\u001b[38;5;28;43mself\u001b[39;49m\u001b[43m)\u001b[49m\u001b[43m.\u001b[49m\u001b[34;43m__init__\u001b[39;49m\u001b[43m(\u001b[49m\n\u001b[32m    259\u001b[39m \u001b[43m    \u001b[49m\u001b[43mproject\u001b[49m\u001b[43m=\u001b[49m\u001b[43mproject\u001b[49m\u001b[43m,\u001b[49m\n\u001b[32m    260\u001b[39m \u001b[43m    \u001b[49m\u001b[43mcredentials\u001b[49m\u001b[43m=\u001b[49m\u001b[43mcredentials\u001b[49m\u001b[43m,\u001b[49m\n\u001b[32m    261\u001b[39m \u001b[43m    \u001b[49m\u001b[43mclient_options\u001b[49m\u001b[43m=\u001b[49m\u001b[43mclient_options\u001b[49m\u001b[43m,\u001b[49m\n\u001b[32m    262\u001b[39m \u001b[43m    \u001b[49m\u001b[43m_http\u001b[49m\u001b[43m=\u001b[49m\u001b[43m_http\u001b[49m\u001b[43m,\u001b[49m\n\u001b[32m    263\u001b[39m \u001b[43m\u001b[49m\u001b[43m)\u001b[49m\n\u001b[32m    265\u001b[39m kw_args: Dict[\u001b[38;5;28mstr\u001b[39m, Any] = {\u001b[33m\"\u001b[39m\u001b[33mclient_info\u001b[39m\u001b[33m\"\u001b[39m: client_info}\n\u001b[32m    266\u001b[39m bq_host = _get_bigquery_host()\n",
      "\u001b[36mFile \u001b[39m\u001b[32mc:\\Users\\Ashis\\miniconda3\\envs\\ceonlp\\Lib\\site-packages\\google\\cloud\\client\\__init__.py:339\u001b[39m, in \u001b[36mClientWithProject.__init__\u001b[39m\u001b[34m(self, project, credentials, client_options, _http)\u001b[39m\n\u001b[32m    337\u001b[39m \u001b[38;5;28;01mdef\u001b[39;00m\u001b[38;5;250m \u001b[39m\u001b[34m__init__\u001b[39m(\u001b[38;5;28mself\u001b[39m, project=\u001b[38;5;28;01mNone\u001b[39;00m, credentials=\u001b[38;5;28;01mNone\u001b[39;00m, client_options=\u001b[38;5;28;01mNone\u001b[39;00m, _http=\u001b[38;5;28;01mNone\u001b[39;00m):\n\u001b[32m    338\u001b[39m     _ClientProjectMixin.\u001b[34m__init__\u001b[39m(\u001b[38;5;28mself\u001b[39m, project=project, credentials=credentials)\n\u001b[32m--> \u001b[39m\u001b[32m339\u001b[39m     \u001b[43mClient\u001b[49m\u001b[43m.\u001b[49m\u001b[34;43m__init__\u001b[39;49m\u001b[43m(\u001b[49m\n\u001b[32m    340\u001b[39m \u001b[43m        \u001b[49m\u001b[38;5;28;43mself\u001b[39;49m\u001b[43m,\u001b[49m\u001b[43m \u001b[49m\u001b[43mcredentials\u001b[49m\u001b[43m=\u001b[49m\u001b[43mcredentials\u001b[49m\u001b[43m,\u001b[49m\u001b[43m \u001b[49m\u001b[43mclient_options\u001b[49m\u001b[43m=\u001b[49m\u001b[43mclient_options\u001b[49m\u001b[43m,\u001b[49m\u001b[43m \u001b[49m\u001b[43m_http\u001b[49m\u001b[43m=\u001b[49m\u001b[43m_http\u001b[49m\n\u001b[32m    341\u001b[39m \u001b[43m    \u001b[49m\u001b[43m)\u001b[49m\n",
      "\u001b[36mFile \u001b[39m\u001b[32mc:\\Users\\Ashis\\miniconda3\\envs\\ceonlp\\Lib\\site-packages\\google\\cloud\\client\\__init__.py:196\u001b[39m, in \u001b[36mClient.__init__\u001b[39m\u001b[34m(self, credentials, _http, client_options)\u001b[39m\n\u001b[32m    194\u001b[39m         credentials = google.auth.api_key.Credentials(client_options.api_key)\n\u001b[32m    195\u001b[39m     \u001b[38;5;28;01melse\u001b[39;00m:\n\u001b[32m--> \u001b[39m\u001b[32m196\u001b[39m         credentials, _ = \u001b[43mgoogle\u001b[49m\u001b[43m.\u001b[49m\u001b[43mauth\u001b[49m\u001b[43m.\u001b[49m\u001b[43mdefault\u001b[49m\u001b[43m(\u001b[49m\u001b[43mscopes\u001b[49m\u001b[43m=\u001b[49m\u001b[43mscopes\u001b[49m\u001b[43m)\u001b[49m\n\u001b[32m    198\u001b[39m \u001b[38;5;28mself\u001b[39m._credentials = google.auth.credentials.with_scopes_if_required(\n\u001b[32m    199\u001b[39m     credentials, scopes=scopes\n\u001b[32m    200\u001b[39m )\n\u001b[32m    202\u001b[39m \u001b[38;5;28;01mif\u001b[39;00m client_options.quota_project_id:\n",
      "\u001b[36mFile \u001b[39m\u001b[32mc:\\Users\\Ashis\\miniconda3\\envs\\ceonlp\\Lib\\site-packages\\google\\auth\\_default.py:685\u001b[39m, in \u001b[36mdefault\u001b[39m\u001b[34m(scopes, request, quota_project_id, default_scopes)\u001b[39m\n\u001b[32m    677\u001b[39m             _LOGGER.warning(\n\u001b[32m    678\u001b[39m                 \u001b[33m\"\u001b[39m\u001b[33mNo project ID could be determined. Consider running \u001b[39m\u001b[33m\"\u001b[39m\n\u001b[32m    679\u001b[39m                 \u001b[33m\"\u001b[39m\u001b[33m`gcloud config set project` or setting the \u001b[39m\u001b[38;5;132;01m%s\u001b[39;00m\u001b[33m \u001b[39m\u001b[33m\"\u001b[39m\n\u001b[32m    680\u001b[39m                 \u001b[33m\"\u001b[39m\u001b[33menvironment variable\u001b[39m\u001b[33m\"\u001b[39m,\n\u001b[32m    681\u001b[39m                 environment_vars.PROJECT,\n\u001b[32m    682\u001b[39m             )\n\u001b[32m    683\u001b[39m         \u001b[38;5;28;01mreturn\u001b[39;00m credentials, effective_project_id\n\u001b[32m--> \u001b[39m\u001b[32m685\u001b[39m \u001b[38;5;28;01mraise\u001b[39;00m exceptions.DefaultCredentialsError(_CLOUD_SDK_MISSING_CREDENTIALS)\n",
      "\u001b[31mDefaultCredentialsError\u001b[39m: Your default credentials were not found. To set up Application Default Credentials, see https://cloud.google.com/docs/authentication/external/set-up-adc for more information."
     ]
    }
   ],
   "source": [
    "import pandas as pd, datetime as dt\n",
    "from google.cloud import bigquery\n",
    "from pathlib import Path\n",
    "\n",
    "events = pd.read_csv(\"../data_raw/ceo_events.csv\", parse_dates=[\"event_date\"])\n",
    "client = bigquery.Client(project=\"bigquery-public-data\")\n",
    "\n",
    "rows=[]\n",
    "for _, ev in events.iterrows():\n",
    "    s = (ev.event_date-pd.Timedelta(days=7)).strftime(\"%Y-%m-%d\")\n",
    "    e = (ev.event_date+pd.Timedelta(days=7)).strftime(\"%Y-%m-%d\")\n",
    "    q=f\"\"\"\n",
    "    SELECT created_utc, title\n",
    "    FROM `fh-bigquery.reddit_posts.posts`\n",
    "    WHERE subreddit='stocks'\n",
    "      AND created_utc BETWEEN '{s}' AND '{e}'\n",
    "      AND LOWER(title) LIKE '%{ev.ticker.lower()}%'\n",
    "    \"\"\"\n",
    "    df=client.query(q).to_dataframe()\n",
    "    df[\"ticker\"]=ev.ticker; df[\"event_date\"]=ev.event_date; rows.append(df)\n",
    "\n",
    "posts=pd.concat(rows)\n",
    "Path(\"../data_raw/reddit\").mkdir(exist_ok=True)\n",
    "posts.to_parquet(\"../data_raw/reddit/rstocks_posts.parquet\")\n",
    "posts.head()\n"
   ]
  }
 ],
 "metadata": {
  "kernelspec": {
   "display_name": "ceonlp",
   "language": "python",
   "name": "python3"
  },
  "language_info": {
   "codemirror_mode": {
    "name": "ipython",
    "version": 3
   },
   "file_extension": ".py",
   "mimetype": "text/x-python",
   "name": "python",
   "nbconvert_exporter": "python",
   "pygments_lexer": "ipython3",
   "version": "3.11.13"
  }
 },
 "nbformat": 4,
 "nbformat_minor": 5
}
