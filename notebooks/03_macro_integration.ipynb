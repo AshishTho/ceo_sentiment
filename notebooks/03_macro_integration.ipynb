{
 "cells": [
  {
   "cell_type": "markdown",
   "id": "6e38c5ee",
   "metadata": {},
   "source": [
    "# Macro-Sentiment Integration Pipeline\n",
    "\n",
    "**Phase 1**: Extend CEO sentiment analysis with macroeconomic indicators from FRED\n",
    "\n",
    "## Objectives:\n",
    "1. **Integrate FRED API** for key macro indicators\n",
    "2. **Align time series** with existing sentiment data\n",
    "3. **Test correlations** between macro events and sentiment\n",
    "4. **Prepare data structure** for dashboard development"
   ]
  },
  {
   "cell_type": "code",
   "execution_count": 5,
   "id": "b50e6d9c",
   "metadata": {},
   "outputs": [
    {
     "name": "stdout",
     "output_type": "stream",
     "text": [
      "✅ Essential packages ready!\n",
      "🎯 pandas and fredapi imported successfully!\n"
     ]
    }
   ],
   "source": [
    "# Essential imports only\n",
    "import pandas as pd\n",
    "from fredapi import Fred\n",
    "\n",
    "print(\"✅ Essential packages ready!\")\n",
    "print(\"🎯 pandas and fredapi imported successfully!\")"
   ]
  },
  {
   "cell_type": "markdown",
   "id": "637bcb5b",
   "metadata": {},
   "source": [
    "## 📊 FRED API Setup\n",
    "\n",
    "**Next Steps:**\n",
    "1. Get free FRED API key: https://fred.stlouisfed.org/docs/api/api_key.html\n",
    "2. Add key to environment variables or config file\n",
    "3. Test connection with key economic indicators"
   ]
  },
  {
   "cell_type": "code",
   "execution_count": 6,
   "id": "ccfadaa1",
   "metadata": {},
   "outputs": [
    {
     "name": "stdout",
     "output_type": "stream",
     "text": [
      "🔧 Setting up FRED API...\n",
      "✅ FRED API initialized\n",
      "📡 API connection ready!\n",
      "\n",
      "📈 6 macro indicators ready:\n",
      "  • GDP\n",
      "  • INFLATION\n",
      "  • UNEMPLOYMENT\n",
      "  • FED_RATE\n",
      "  • VIX\n",
      "  • SP500\n",
      "\n",
      "🚀 FRED setup complete!\n"
     ]
    }
   ],
   "source": [
    "# FRED API Setup - Quick test\n",
    "print(\"🔧 Setting up FRED API...\")\n",
    "\n",
    "# Initialize FRED connection\n",
    "fred = Fred(api_key='71ec74dc207a02d25ad16ceb549859d3')\n",
    "print(\"✅ FRED API initialized\")\n",
    "\n",
    "# Simple connection test (no data fetch yet)\n",
    "print(\"📡 API connection ready!\")\n",
    "\n",
    "# Define our target indicators\n",
    "FRED_SERIES = {\n",
    "    'GDP': 'GDP',\n",
    "    'INFLATION': 'CPIAUCSL', \n",
    "    'UNEMPLOYMENT': 'UNRATE',\n",
    "    'FED_RATE': 'FEDFUNDS',\n",
    "    'VIX': 'VIXCLS',\n",
    "    'SP500': 'SP500'\n",
    "}\n",
    "\n",
    "print(f\"\\n📈 {len(FRED_SERIES)} macro indicators ready:\")\n",
    "for name, code in FRED_SERIES.items():\n",
    "    print(f\"  • {name}\")\n",
    "\n",
    "print(\"\\n🚀 FRED setup complete!\")"
   ]
  },
  {
   "cell_type": "markdown",
   "id": "89c04a8b",
   "metadata": {},
   "source": [
    "## 🔗 Load Existing Sentiment Data\n",
    "\n",
    "Connect with your existing CEO sentiment pipeline"
   ]
  },
  {
   "cell_type": "code",
   "execution_count": 7,
   "id": "ca142af7",
   "metadata": {},
   "outputs": [
    {
     "name": "stdout",
     "output_type": "stream",
     "text": [
      "📁 Loading sentiment data...\n",
      "🔍 Checking path: c:\\Users\\Ashis\\Downloads\\ceo_sentiment\\data_proc\\rstocks_scored.parquet\n",
      "📁 File exists: True\n",
      "✅ Loaded: 707 records\n",
      "📊 Columns: ['created_utc', 'title', 'ticker', 'event_date', 'sent', 'created_dt', 'rel_day']\n",
      "✅ Sentiment data ready!\n",
      "🎯 Next: Fetch FRED macro data!\n"
     ]
    }
   ],
   "source": [
    "# Load sentiment data - fixed path\n",
    "import os\n",
    "\n",
    "print(\"📁 Loading sentiment data...\")\n",
    "\n",
    "# Use absolute path to be sure\n",
    "file_path = r'c:\\Users\\Ashis\\Downloads\\ceo_sentiment\\data_proc\\rstocks_scored.parquet'\n",
    "\n",
    "print(f\"🔍 Checking path: {file_path}\")\n",
    "print(f\"📁 File exists: {os.path.exists(file_path)}\")\n",
    "\n",
    "if os.path.exists(file_path):\n",
    "    sentiment_data = pd.read_parquet(file_path)\n",
    "    print(f\"✅ Loaded: {len(sentiment_data):,} records\")\n",
    "    print(f\"📊 Columns: {list(sentiment_data.columns)}\")\n",
    "    print(\"✅ Sentiment data ready!\")\n",
    "else:\n",
    "    print(\"❌ File not found at expected location\")\n",
    "    # Try relative path as backup\n",
    "    rel_path = '../data_proc/rstocks_scored.parquet'\n",
    "    print(f\"🔄 Trying relative path: {rel_path}\")\n",
    "    if os.path.exists(rel_path):\n",
    "        sentiment_data = pd.read_parquet(rel_path)\n",
    "        print(f\"✅ Loaded via relative path: {len(sentiment_data):,} records\")\n",
    "    else:\n",
    "        print(\"❌ Neither path worked\")\n",
    "\n",
    "print(\"🎯 Next: Fetch FRED macro data!\")"
   ]
  },
  {
   "cell_type": "markdown",
   "id": "09ee3c38",
   "metadata": {},
   "source": [
    "## 🎯 Development Roadmap\n",
    "\n",
    "### Phase 1: Data Integration (Current)\n",
    "- [x] Identify key FRED indicators\n",
    "- [ ] Get FRED API key\n",
    "- [ ] Download macro time series\n",
    "- [ ] Align with sentiment data timeline\n",
    "\n",
    "### Phase 2: Statistical Analysis\n",
    "- [ ] Correlation analysis (macro ↔ sentiment)\n",
    "- [ ] Granger causality tests\n",
    "- [ ] ARIMA modeling with sentiment features\n",
    "\n",
    "### Phase 3: Dashboard Development\n",
    "- [ ] Streamlit app structure\n",
    "- [ ] Real-time data pipeline\n",
    "- [ ] Interactive visualizations\n",
    "- [ ] Deployment to cloud platform"
   ]
  },
  {
   "cell_type": "code",
   "execution_count": null,
   "id": "e0a57c41",
   "metadata": {},
   "outputs": [],
   "source": [
    "# 🚀 FRED Macro Data Integration\n",
    "print(\"📈 Fetching macro indicators from FRED...\")\n",
    "\n",
    "# Get the sentiment data date range for our macro data window\n",
    "if 'sentiment_data' in locals():\n",
    "    # Find date column (assuming it's 'created_utc' based on Reddit data)\n",
    "    date_cols = [col for col in sentiment_data.columns if 'date' in col.lower() or 'created' in col.lower()]\n",
    "    if date_cols:\n",
    "        date_col = date_cols[0]\n",
    "        start_date = sentiment_data[date_col].min()\n",
    "        end_date = sentiment_data[date_col].max()\n",
    "        print(f\"📅 Sentiment data range: {start_date} to {end_date}\")\n",
    "    else:\n",
    "        # Default time window if no date column found\n",
    "        start_date = '2024-01-01'\n",
    "        end_date = '2024-12-31'\n",
    "        print(f\"📅 Using default range: {start_date} to {end_date}\")\n",
    "else:\n",
    "    print(\"⚠️ No sentiment data loaded, using default range\")\n",
    "    start_date = '2024-01-01'\n",
    "    end_date = '2024-12-31'\n",
    "\n",
    "# Fetch macro indicators\n",
    "macro_data = {}\n",
    "print(f\"\\n🔄 Downloading {len(FRED_SERIES)} indicators...\")\n",
    "\n",
    "for name, series_id in FRED_SERIES.items():\n",
    "    try:\n",
    "        print(f\"  📊 {name}...\", end=\"\")\n",
    "        data = fred.get_series(series_id, start=start_date, end=end_date)\n",
    "        macro_data[name] = data\n",
    "        print(f\" ✅ ({len(data)} points)\")\n",
    "    except Exception as e:\n",
    "        print(f\" ❌ Error: {e}\")\n",
    "\n",
    "# Create combined macro DataFrame\n",
    "if macro_data:\n",
    "    macro_df = pd.DataFrame(macro_data)\n",
    "    print(f\"\\n✅ Macro data loaded: {macro_df.shape}\")\n",
    "    print(f\"📊 Date range: {macro_df.index.min()} to {macro_df.index.max()}\")\n",
    "    print(f\"📈 Indicators: {list(macro_df.columns)}\")\n",
    "    \n",
    "    # Show sample data\n",
    "    print(f\"\\n\udccb Sample macro data:\")\n",
    "    print(macro_df.head())\n",
    "    \n",
    "    print(f\"\\n🎯 SUCCESS: Macro-sentiment integration ready!\")\n",
    "    print(f\"📊 Next steps: Correlation analysis, Granger causality, ARIMA forecasting\")\n",
    "else:\n",
    "    print(\"❌ No macro data retrieved\")"
   ]
  }
 ],
 "metadata": {
  "kernelspec": {
   "display_name": "ceonlp",
   "language": "python",
   "name": "python3"
  },
  "language_info": {
   "codemirror_mode": {
    "name": "ipython",
    "version": 3
   },
   "file_extension": ".py",
   "mimetype": "text/x-python",
   "name": "python",
   "nbconvert_exporter": "python",
   "pygments_lexer": "ipython3",
   "version": "3.11.13"
  }
 },
 "nbformat": 4,
 "nbformat_minor": 5
}
