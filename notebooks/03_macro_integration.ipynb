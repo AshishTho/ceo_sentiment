{
 "cells": [
  {
   "cell_type": "markdown",
   "id": "6e38c5ee",
   "metadata": {},
   "source": [
    "# Macro-Sentiment Integration Pipeline\n",
    "\n",
    "**Phase 1**: Extend CEO sentiment analysis with macroeconomic indicators from FRED\n",
    "\n",
    "## Objectives:\n",
    "1. **Integrate FRED API** for key macro indicators\n",
    "2. **Align time series** with existing sentiment data\n",
    "3. **Test correlations** between macro events and sentiment\n",
    "4. **Prepare data structure** for dashboard development"
   ]
  },
  {
   "cell_type": "code",
   "execution_count": 1,
   "id": "b50e6d9c",
   "metadata": {},
   "outputs": [
    {
     "name": "stdout",
     "output_type": "stream",
     "text": [
      "✅ Essential packages ready!\n",
      "🎯 pandas and fredapi imported successfully!\n"
     ]
    }
   ],
   "source": [
    "# Essential imports only\n",
    "import pandas as pd\n",
    "from fredapi import Fred\n",
    "\n",
    "print(\"✅ Essential packages ready!\")\n",
    "print(\"🎯 pandas and fredapi imported successfully!\")"
   ]
  },
  {
   "cell_type": "markdown",
   "id": "637bcb5b",
   "metadata": {},
   "source": [
    "## 📊 FRED API Setup\n",
    "\n",
    "**Next Steps:**\n",
    "1. Get free FRED API key: https://fred.stlouisfed.org/docs/api/api_key.html\n",
    "2. Add key to environment variables or config file\n",
    "3. Test connection with key economic indicators"
   ]
  },
  {
   "cell_type": "code",
   "execution_count": 2,
   "id": "ccfadaa1",
   "metadata": {},
   "outputs": [
    {
     "name": "stdout",
     "output_type": "stream",
     "text": [
      "🔧 Setting up FRED API...\n",
      "✅ FRED API initialized\n",
      "📡 API connection ready!\n",
      "\n",
      "📈 6 macro indicators ready:\n",
      "  • GDP\n",
      "  • INFLATION\n",
      "  • UNEMPLOYMENT\n",
      "  • FED_RATE\n",
      "  • VIX\n",
      "  • SP500\n",
      "\n",
      "🚀 FRED setup complete!\n"
     ]
    }
   ],
   "source": [
    "# FRED API Setup - Quick test\n",
    "print(\"🔧 Setting up FRED API...\")\n",
    "\n",
    "# Initialize FRED connection\n",
    "fred = Fred(api_key='71ec74dc207a02d25ad16ceb549859d3')\n",
    "print(\"✅ FRED API initialized\")\n",
    "\n",
    "# Simple connection test (no data fetch yet)\n",
    "print(\"📡 API connection ready!\")\n",
    "\n",
    "# Define our target indicators\n",
    "FRED_SERIES = {\n",
    "    'GDP': 'GDP',\n",
    "    'INFLATION': 'CPIAUCSL', \n",
    "    'UNEMPLOYMENT': 'UNRATE',\n",
    "    'FED_RATE': 'FEDFUNDS',\n",
    "    'VIX': 'VIXCLS',\n",
    "    'SP500': 'SP500'\n",
    "}\n",
    "\n",
    "print(f\"\\n📈 {len(FRED_SERIES)} macro indicators ready:\")\n",
    "for name, code in FRED_SERIES.items():\n",
    "    print(f\"  • {name}\")\n",
    "\n",
    "print(\"\\n🚀 FRED setup complete!\")"
   ]
  },
  {
   "cell_type": "markdown",
   "id": "89c04a8b",
   "metadata": {},
   "source": [
    "## 🔗 Load Existing Sentiment Data\n",
    "\n",
    "Connect with your existing CEO sentiment pipeline"
   ]
  },
  {
   "cell_type": "code",
   "execution_count": 3,
   "id": "ca142af7",
   "metadata": {},
   "outputs": [
    {
     "name": "stdout",
     "output_type": "stream",
     "text": [
      "📁 Loading sentiment data...\n",
      "🔍 Checking path: c:\\Users\\Ashis\\Downloads\\ceo_sentiment\\data_proc\\rstocks_scored.parquet\n",
      "📁 File exists: True\n",
      "✅ Loaded: 707 records\n",
      "📊 Columns: ['created_utc', 'title', 'ticker', 'event_date', 'sent', 'created_dt', 'rel_day']\n",
      "✅ Sentiment data ready!\n",
      "🎯 Next: Fetch FRED macro data!\n"
     ]
    }
   ],
   "source": [
    "# Load sentiment data - fixed path\n",
    "import os\n",
    "\n",
    "print(\"📁 Loading sentiment data...\")\n",
    "\n",
    "# Use absolute path to be sure\n",
    "file_path = r'c:\\Users\\Ashis\\Downloads\\ceo_sentiment\\data_proc\\rstocks_scored.parquet'\n",
    "\n",
    "print(f\"🔍 Checking path: {file_path}\")\n",
    "print(f\"📁 File exists: {os.path.exists(file_path)}\")\n",
    "\n",
    "if os.path.exists(file_path):\n",
    "    sentiment_data = pd.read_parquet(file_path)\n",
    "    print(f\"✅ Loaded: {len(sentiment_data):,} records\")\n",
    "    print(f\"📊 Columns: {list(sentiment_data.columns)}\")\n",
    "    print(\"✅ Sentiment data ready!\")\n",
    "else:\n",
    "    print(\"❌ File not found at expected location\")\n",
    "    # Try relative path as backup\n",
    "    rel_path = '../data_proc/rstocks_scored.parquet'\n",
    "    print(f\"🔄 Trying relative path: {rel_path}\")\n",
    "    if os.path.exists(rel_path):\n",
    "        sentiment_data = pd.read_parquet(rel_path)\n",
    "        print(f\"✅ Loaded via relative path: {len(sentiment_data):,} records\")\n",
    "    else:\n",
    "        print(\"❌ Neither path worked\")\n",
    "\n",
    "print(\"🎯 Next: Fetch FRED macro data!\")"
   ]
  },
  {
   "cell_type": "markdown",
   "id": "09ee3c38",
   "metadata": {},
   "source": [
    "## 🎯 Development Roadmap\n",
    "\n",
    "### Phase 1: Data Integration (Current)\n",
    "- [x] Identify key FRED indicators\n",
    "- [ ] Get FRED API key\n",
    "- [ ] Download macro time series\n",
    "- [ ] Align with sentiment data timeline\n",
    "\n",
    "### Phase 2: Statistical Analysis\n",
    "- [ ] Correlation analysis (macro ↔ sentiment)\n",
    "- [ ] Granger causality tests\n",
    "- [ ] ARIMA modeling with sentiment features\n",
    "\n",
    "### Phase 3: Dashboard Development\n",
    "- [ ] Streamlit app structure\n",
    "- [ ] Real-time data pipeline\n",
    "- [ ] Interactive visualizations\n",
    "- [ ] Deployment to cloud platform"
   ]
  },
  {
   "cell_type": "code",
   "execution_count": null,
   "id": "e0a57c41",
   "metadata": {},
   "outputs": [],
   "source": [
    "# 🚀 FRED Macro Data Integration - Fast Version\n",
    "print(\"📈 Quick FRED data test...\")\n",
    "\n",
    "# Start with just one indicator to test connection\n",
    "print(\"🔬 Testing with VIX (fastest indicator)...\")\n",
    "\n",
    "try:\n",
    "    # Test with VIX first (daily data, reliable)\n",
    "    vix_data = fred.get_series('VIXCLS', start='2024-01-01', end='2024-03-01', limit=50)\n",
    "    print(f\"✅ VIX test successful: {len(vix_data)} points\")\n",
    "    print(f\"\udcca Sample VIX data: {vix_data.head(3).values}\")\n",
    "    \n",
    "    # If VIX works, try a few key indicators with limited data\n",
    "    print(f\"\\n🔄 Downloading key indicators (limited data)...\")\n",
    "    \n",
    "    macro_data = {}\n",
    "    \n",
    "    # Key indicators with short time window for speed\n",
    "    key_series = {\n",
    "        'VIX': 'VIXCLS',\n",
    "        'FED_RATE': 'FEDFUNDS', \n",
    "        'UNEMPLOYMENT': 'UNRATE'\n",
    "    }\n",
    "    \n",
    "    for name, series_id in key_series.items():\n",
    "        try:\n",
    "            print(f\"  📊 {name}...\", end=\"\")\n",
    "            data = fred.get_series(series_id, start='2024-01-01', end='2024-06-01', limit=100)\n",
    "            macro_data[name] = data\n",
    "            print(f\" ✅ ({len(data)} points)\")\n",
    "        except Exception as e:\n",
    "            print(f\" ❌ {str(e)[:50]}...\")\n",
    "    \n",
    "    if macro_data:\n",
    "        macro_df = pd.DataFrame(macro_data)\n",
    "        print(f\"\\n✅ SUCCESS! Macro data loaded: {macro_df.shape}\")\n",
    "        print(f\"📊 Sample data:\")\n",
    "        print(macro_df.head())\n",
    "        \n",
    "        print(f\"\\n🎯 FRED integration working!\")\n",
    "        print(f\"📈 Ready to expand to full dataset\")\n",
    "    else:\n",
    "        print(\"❌ No data retrieved\")\n",
    "        \n",
    "except Exception as e:\n",
    "    print(f\"❌ FRED connection error: {e}\")\n",
    "    print(\"🔧 Check API key or network connection\")"
   ]
  }
 ],
 "metadata": {
  "kernelspec": {
   "display_name": "ceonlp",
   "language": "python",
   "name": "python3"
  },
  "language_info": {
   "codemirror_mode": {
    "name": "ipython",
    "version": 3
   },
   "file_extension": ".py",
   "mimetype": "text/x-python",
   "name": "python",
   "nbconvert_exporter": "python",
   "pygments_lexer": "ipython3",
   "version": "3.11.13"
  }
 },
 "nbformat": 4,
 "nbformat_minor": 5
}
