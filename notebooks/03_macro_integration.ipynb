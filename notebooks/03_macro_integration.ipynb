{
 "cells": [
  {
   "cell_type": "markdown",
   "id": "6e38c5ee",
   "metadata": {},
   "source": [
    "# Macro-Sentiment Integration Pipeline\n",
    "\n",
    "**Phase 1**: Extend CEO sentiment analysis with macroeconomic indicators from FRED\n",
    "\n",
    "## Objectives:\n",
    "1. **Integrate FRED API** for key macro indicators\n",
    "2. **Align time series** with existing sentiment data\n",
    "3. **Test correlations** between macro events and sentiment\n",
    "4. **Prepare data structure** for dashboard development"
   ]
  },
  {
   "cell_type": "code",
   "execution_count": 1,
   "id": "b50e6d9c",
   "metadata": {},
   "outputs": [
    {
     "name": "stdout",
     "output_type": "stream",
     "text": [
      "✅ Essential packages ready!\n",
      "🎯 pandas and fredapi imported successfully!\n"
     ]
    }
   ],
   "source": [
    "# Essential imports only\n",
    "import pandas as pd\n",
    "from fredapi import Fred\n",
    "\n",
    "print(\"✅ Essential packages ready!\")\n",
    "print(\"🎯 pandas and fredapi imported successfully!\")"
   ]
  },
  {
   "cell_type": "markdown",
   "id": "637bcb5b",
   "metadata": {},
   "source": [
    "## 📊 FRED API Setup\n",
    "\n",
    "**Next Steps:**\n",
    "1. Get free FRED API key: https://fred.stlouisfed.org/docs/api/api_key.html\n",
    "2. Add key to environment variables or config file\n",
    "3. Test connection with key economic indicators"
   ]
  },
  {
   "cell_type": "code",
   "execution_count": 2,
   "id": "ccfadaa1",
   "metadata": {},
   "outputs": [
    {
     "name": "stdout",
     "output_type": "stream",
     "text": [
      "🔧 Setting up FRED API...\n",
      "✅ FRED API initialized\n",
      "📡 API connection ready!\n",
      "\n",
      "📈 6 macro indicators ready:\n",
      "  • GDP\n",
      "  • INFLATION\n",
      "  • UNEMPLOYMENT\n",
      "  • FED_RATE\n",
      "  • VIX\n",
      "  • SP500\n",
      "\n",
      "🚀 FRED setup complete!\n"
     ]
    }
   ],
   "source": [
    "# FRED API Setup - Quick test\n",
    "print(\"🔧 Setting up FRED API...\")\n",
    "\n",
    "# Initialize FRED connection\n",
    "fred = Fred(api_key='71ec74dc207a02d25ad16ceb549859d3')\n",
    "print(\"✅ FRED API initialized\")\n",
    "\n",
    "# Simple connection test (no data fetch yet)\n",
    "print(\"📡 API connection ready!\")\n",
    "\n",
    "# Define our target indicators\n",
    "FRED_SERIES = {\n",
    "    'GDP': 'GDP',\n",
    "    'INFLATION': 'CPIAUCSL', \n",
    "    'UNEMPLOYMENT': 'UNRATE',\n",
    "    'FED_RATE': 'FEDFUNDS',\n",
    "    'VIX': 'VIXCLS',\n",
    "    'SP500': 'SP500'\n",
    "}\n",
    "\n",
    "print(f\"\\n📈 {len(FRED_SERIES)} macro indicators ready:\")\n",
    "for name, code in FRED_SERIES.items():\n",
    "    print(f\"  • {name}\")\n",
    "\n",
    "print(\"\\n🚀 FRED setup complete!\")"
   ]
  },
  {
   "cell_type": "markdown",
   "id": "89c04a8b",
   "metadata": {},
   "source": [
    "## 🔗 Load Existing Sentiment Data\n",
    "\n",
    "Connect with your existing CEO sentiment pipeline"
   ]
  },
  {
   "cell_type": "code",
   "execution_count": 3,
   "id": "ca142af7",
   "metadata": {},
   "outputs": [
    {
     "name": "stdout",
     "output_type": "stream",
     "text": [
      "📁 Loading sentiment data...\n",
      "🔍 Checking path: c:\\Users\\Ashis\\Downloads\\ceo_sentiment\\data_proc\\rstocks_scored.parquet\n",
      "📁 File exists: True\n",
      "✅ Loaded: 707 records\n",
      "📊 Columns: ['created_utc', 'title', 'ticker', 'event_date', 'sent', 'created_dt', 'rel_day']\n",
      "✅ Sentiment data ready!\n",
      "🎯 Next: Fetch FRED macro data!\n"
     ]
    }
   ],
   "source": [
    "# Load sentiment data - fixed path\n",
    "import os\n",
    "\n",
    "print(\"📁 Loading sentiment data...\")\n",
    "\n",
    "# Use absolute path to be sure\n",
    "file_path = r'c:\\Users\\Ashis\\Downloads\\ceo_sentiment\\data_proc\\rstocks_scored.parquet'\n",
    "\n",
    "print(f\"🔍 Checking path: {file_path}\")\n",
    "print(f\"📁 File exists: {os.path.exists(file_path)}\")\n",
    "\n",
    "if os.path.exists(file_path):\n",
    "    sentiment_data = pd.read_parquet(file_path)\n",
    "    print(f\"✅ Loaded: {len(sentiment_data):,} records\")\n",
    "    print(f\"📊 Columns: {list(sentiment_data.columns)}\")\n",
    "    print(\"✅ Sentiment data ready!\")\n",
    "else:\n",
    "    print(\"❌ File not found at expected location\")\n",
    "    # Try relative path as backup\n",
    "    rel_path = '../data_proc/rstocks_scored.parquet'\n",
    "    print(f\"🔄 Trying relative path: {rel_path}\")\n",
    "    if os.path.exists(rel_path):\n",
    "        sentiment_data = pd.read_parquet(rel_path)\n",
    "        print(f\"✅ Loaded via relative path: {len(sentiment_data):,} records\")\n",
    "    else:\n",
    "        print(\"❌ Neither path worked\")\n",
    "\n",
    "print(\"🎯 Next: Fetch FRED macro data!\")"
   ]
  },
  {
   "cell_type": "markdown",
   "id": "09ee3c38",
   "metadata": {},
   "source": [
    "## 🎯 Development Roadmap\n",
    "\n",
    "### Phase 1: Data Integration (Current)\n",
    "- [x] Identify key FRED indicators\n",
    "- [ ] Get FRED API key\n",
    "- [ ] Download macro time series\n",
    "- [ ] Align with sentiment data timeline\n",
    "\n",
    "### Phase 2: Statistical Analysis\n",
    "- [ ] Correlation analysis (macro ↔ sentiment)\n",
    "- [ ] Granger causality tests\n",
    "- [ ] ARIMA modeling with sentiment features\n",
    "\n",
    "### Phase 3: Dashboard Development\n",
    "- [ ] Streamlit app structure\n",
    "- [ ] Real-time data pipeline\n",
    "- [ ] Interactive visualizations\n",
    "- [ ] Deployment to cloud platform"
   ]
  },
  {
   "cell_type": "code",
   "execution_count": 4,
   "id": "e0a57c41",
   "metadata": {},
   "outputs": [
    {
     "name": "stdout",
     "output_type": "stream",
     "text": [
      "🚀 Ready for FRED API integration!\n",
      "Next: Get your free API key from https://fred.stlouisfed.org/docs/api/api_key.html\n"
     ]
    }
   ],
   "source": [
    "# Next steps placeholder - will implement after FRED API setup\n",
    "def fetch_macro_data(start_date, end_date):\n",
    "    \"\"\"\n",
    "    Fetch macroeconomic indicators from FRED API\n",
    "    \n",
    "    Returns: DataFrame with macro indicators aligned to sentiment timeline\n",
    "    \"\"\"\n",
    "    # Implementation coming next...\n",
    "    pass\n",
    "\n",
    "def align_macro_sentiment(macro_df, sentiment_df):\n",
    "    \"\"\"\n",
    "    Merge macro and sentiment data on common time index\n",
    "    \n",
    "    Returns: Combined DataFrame ready for analysis\n",
    "    \"\"\"\n",
    "    # Implementation coming next...\n",
    "    pass\n",
    "\n",
    "print(\"🚀 Ready for FRED API integration!\")\n",
    "print(\"Next: Get your free API key from https://fred.stlouisfed.org/docs/api/api_key.html\")"
   ]
  }
 ],
 "metadata": {
  "kernelspec": {
   "display_name": "ceonlp",
   "language": "python",
   "name": "python3"
  },
  "language_info": {
   "codemirror_mode": {
    "name": "ipython",
    "version": 3
   },
   "file_extension": ".py",
   "mimetype": "text/x-python",
   "name": "python",
   "nbconvert_exporter": "python",
   "pygments_lexer": "ipython3",
   "version": "3.11.13"
  }
 },
 "nbformat": 4,
 "nbformat_minor": 5
}
