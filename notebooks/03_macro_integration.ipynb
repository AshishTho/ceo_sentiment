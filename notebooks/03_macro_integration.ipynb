{
 "cells": [
  {
   "cell_type": "markdown",
   "id": "6e38c5ee",
   "metadata": {},
   "source": [
    "# Macro-Sentiment Integration Pipeline\n",
    "\n",
    "**Phase 1**: Extend CEO sentiment analysis with macroeconomic indicators from FRED\n",
    "\n",
    "## Objectives:\n",
    "1. **Integrate FRED API** for key macro indicators\n",
    "2. **Align time series** with existing sentiment data\n",
    "3. **Test correlations** between macro events and sentiment\n",
    "4. **Prepare data structure** for dashboard development"
   ]
  },
  {
   "cell_type": "code",
   "execution_count": 1,
   "id": "b50e6d9c",
   "metadata": {},
   "outputs": [
    {
     "name": "stdout",
     "output_type": "stream",
     "text": [
      "Requirement already satisfied: fredapi in c:\\users\\ashis\\miniconda3\\envs\\ceonlp\\lib\\site-packages (0.5.2)\n",
      "Requirement already satisfied: pandas-datareader in c:\\users\\ashis\\miniconda3\\envs\\ceonlp\\lib\\site-packages (0.10.0)\n",
      "Requirement already satisfied: yfinance in c:\\users\\ashis\\miniconda3\\envs\\ceonlp\\lib\\site-packages (0.2.57)\n",
      "Requirement already satisfied: pandas in c:\\users\\ashis\\miniconda3\\envs\\ceonlp\\lib\\site-packages (from fredapi) (2.3.0)\n",
      "Requirement already satisfied: lxml in c:\\users\\ashis\\miniconda3\\envs\\ceonlp\\lib\\site-packages (from pandas-datareader) (5.3.0)\n",
      "Requirement already satisfied: requests>=2.19.0 in c:\\users\\ashis\\miniconda3\\envs\\ceonlp\\lib\\site-packages (from pandas-datareader) (2.32.4)\n",
      "Requirement already satisfied: numpy>=1.16.5 in c:\\users\\ashis\\miniconda3\\envs\\ceonlp\\lib\\site-packages (from yfinance) (2.2.5)\n",
      "Requirement already satisfied: multitasking>=0.0.7 in c:\\users\\ashis\\miniconda3\\envs\\ceonlp\\lib\\site-packages (from yfinance) (0.0.11)\n",
      "Requirement already satisfied: platformdirs>=2.0.0 in c:\\users\\ashis\\miniconda3\\envs\\ceonlp\\lib\\site-packages (from yfinance) (4.3.8)\n",
      "Requirement already satisfied: pytz>=2022.5 in c:\\users\\ashis\\miniconda3\\envs\\ceonlp\\lib\\site-packages (from yfinance) (2025.2)\n",
      "Requirement already satisfied: frozendict>=2.3.4 in c:\\users\\ashis\\miniconda3\\envs\\ceonlp\\lib\\site-packages (from yfinance) (2.3.8)\n",
      "Requirement already satisfied: peewee>=3.16.2 in c:\\users\\ashis\\miniconda3\\envs\\ceonlp\\lib\\site-packages (from yfinance) (3.16.2)\n",
      "Requirement already satisfied: beautifulsoup4>=4.11.1 in c:\\users\\ashis\\miniconda3\\envs\\ceonlp\\lib\\site-packages (from yfinance) (4.13.4)\n",
      "Requirement already satisfied: soupsieve>1.2 in c:\\users\\ashis\\miniconda3\\envs\\ceonlp\\lib\\site-packages (from beautifulsoup4>=4.11.1->yfinance) (2.7)\n",
      "Requirement already satisfied: typing-extensions>=4.0.0 in c:\\users\\ashis\\miniconda3\\envs\\ceonlp\\lib\\site-packages (from beautifulsoup4>=4.11.1->yfinance) (4.14.1)\n",
      "Requirement already satisfied: python-dateutil>=2.8.2 in c:\\users\\ashis\\miniconda3\\envs\\ceonlp\\lib\\site-packages (from pandas->fredapi) (2.9.0.post0)\n",
      "Requirement already satisfied: tzdata>=2022.7 in c:\\users\\ashis\\miniconda3\\envs\\ceonlp\\lib\\site-packages (from pandas->fredapi) (2025.2)\n",
      "Requirement already satisfied: six>=1.5 in c:\\users\\ashis\\miniconda3\\envs\\ceonlp\\lib\\site-packages (from python-dateutil>=2.8.2->pandas->fredapi) (1.17.0)\n",
      "Requirement already satisfied: charset_normalizer<4,>=2 in c:\\users\\ashis\\miniconda3\\envs\\ceonlp\\lib\\site-packages (from requests>=2.19.0->pandas-datareader) (3.4.2)\n",
      "Requirement already satisfied: idna<4,>=2.5 in c:\\users\\ashis\\miniconda3\\envs\\ceonlp\\lib\\site-packages (from requests>=2.19.0->pandas-datareader) (3.10)\n",
      "Requirement already satisfied: urllib3<3,>=1.21.1 in c:\\users\\ashis\\miniconda3\\envs\\ceonlp\\lib\\site-packages (from requests>=2.19.0->pandas-datareader) (2.5.0)\n",
      "Requirement already satisfied: certifi>=2017.4.17 in c:\\users\\ashis\\miniconda3\\envs\\ceonlp\\lib\\site-packages (from requests>=2.19.0->pandas-datareader) (2025.6.15)\n"
     ]
    }
   ],
   "source": [
    "# Step 1: Install required packages\n",
    "!pip install fredapi pandas-datareader yfinance\n",
    "\n",
    "import pandas as pd\n",
    "import numpy as np\n",
    "import matplotlib.pyplot as plt\n",
    "import seaborn as sns\n",
    "from fredapi import Fred\n",
    "from datetime import datetime, timedelta\n",
    "import warnings\n",
    "warnings.filterwarnings('ignore')"
   ]
  },
  {
   "cell_type": "markdown",
   "id": "637bcb5b",
   "metadata": {},
   "source": [
    "## 📊 FRED API Setup\n",
    "\n",
    "**Next Steps:**\n",
    "1. Get free FRED API key: https://fred.stlouisfed.org/docs/api/api_key.html\n",
    "2. Add key to environment variables or config file\n",
    "3. Test connection with key economic indicators"
   ]
  },
  {
   "cell_type": "code",
   "execution_count": 2,
   "id": "ccfadaa1",
   "metadata": {},
   "outputs": [
    {
     "name": "stdout",
     "output_type": "stream",
     "text": [
      "📈 Target Macro Indicators:\n",
      "  • GDP: GDP\n",
      "  • INFLATION: CPIAUCSL\n",
      "  • UNEMPLOYMENT: UNRATE\n",
      "  • FED_RATE: FEDFUNDS\n",
      "  • VIX: VIXCLS\n",
      "  • SP500: SP500\n",
      "  • CONSUMER_SENTIMENT: UMCSENT\n"
     ]
    }
   ],
   "source": [
    "# TODO: Add your FRED API key\n",
    "# fred = Fred(api_key='71ec74dc207a02d25ad16ceb549859d3')\n",
    "\n",
    "# Key macro indicators to start with:\n",
    "FRED_SERIES = {\n",
    "    'GDP': 'GDP',                    # Gross Domestic Product\n",
    "    'INFLATION': 'CPIAUCSL',         # Consumer Price Index\n",
    "    'UNEMPLOYMENT': 'UNRATE',        # Unemployment Rate\n",
    "    'FED_RATE': 'FEDFUNDS',         # Federal Funds Rate\n",
    "    'VIX': 'VIXCLS',                # Volatility Index\n",
    "    'SP500': 'SP500',               # S&P 500 Index\n",
    "    'CONSUMER_SENTIMENT': 'UMCSENT'  # University of Michigan Consumer Sentiment\n",
    "}\n",
    "\n",
    "print(\"📈 Target Macro Indicators:\")\n",
    "for name, code in FRED_SERIES.items():\n",
    "    print(f\"  • {name}: {code}\")"
   ]
  },
  {
   "cell_type": "markdown",
   "id": "89c04a8b",
   "metadata": {},
   "source": [
    "## 🔗 Load Existing Sentiment Data\n",
    "\n",
    "Connect with your existing CEO sentiment pipeline"
   ]
  },
  {
   "cell_type": "code",
   "execution_count": null,
   "id": "ca142af7",
   "metadata": {},
   "outputs": [
    {
     "name": "stdout",
     "output_type": "stream",
     "text": [
      "🔍 Starting diagnostic...\n",
      "✅ Pandas imported\n",
      "📁 File exists: True\n",
      "🔄 Attempting to load...\n",
      "✅ SUCCESS: Loaded 707 rows, 7 columns\n",
      "📊 Columns: ['created_utc', 'title', 'ticker', 'event_date', 'sent']...\n",
      "🏁 Diagnostic complete\n"
     ]
    }
   ],
   "source": [
    "# Load sentiment data and examine structure\n",
    "import pandas as pd\n",
    "import os\n",
    "\n",
    "file_path = '../data_proc/rstocks_scored.parquet'\n",
    "sentiment_data = pd.read_parquet(file_path)\n",
    "\n",
    "print(f\"✅ Loaded sentiment data: {len(sentiment_data):,} records\")\n",
    "print(f\"📊 Shape: {sentiment_data.shape}\")\n",
    "print(f\"📊 Columns: {list(sentiment_data.columns)}\")\n",
    "\n",
    "# Show data types and sample data\n",
    "print(f\"\\n📊 Data Types:\")\n",
    "print(sentiment_data.dtypes)\n",
    "\n",
    "print(f\"\\n\udcca Sample Data:\")\n",
    "print(sentiment_data.head())\n",
    "\n",
    "# Find date columns for time alignment with macro data\n",
    "date_cols = [col for col in sentiment_data.columns if any(word in col.lower() for word in ['date', 'time', 'created', 'timestamp'])]\n",
    "print(f\"\\n📅 Date-related columns: {date_cols}\")\n",
    "\n",
    "if date_cols:\n",
    "    main_date_col = date_cols[0]\n",
    "    print(f\"\udcc5 Date range: {sentiment_data[main_date_col].min()} to {sentiment_data[main_date_col].max()}\")\n",
    "    \n",
    "    # This will be our time window for FRED data\n",
    "    start_date = sentiment_data[main_date_col].min()\n",
    "    end_date = sentiment_data[main_date_col].max()\n",
    "    print(f\"\\n🎯 FRED data window needed: {start_date} to {end_date}\")\n",
    "else:\n",
    "    print(\"⚠️ No clear date column found - will need to investigate data structure\")"
   ]
  },
  {
   "cell_type": "markdown",
   "id": "09ee3c38",
   "metadata": {},
   "source": [
    "## 🎯 Development Roadmap\n",
    "\n",
    "### Phase 1: Data Integration (Current)\n",
    "- [x] Identify key FRED indicators\n",
    "- [ ] Get FRED API key\n",
    "- [ ] Download macro time series\n",
    "- [ ] Align with sentiment data timeline\n",
    "\n",
    "### Phase 2: Statistical Analysis\n",
    "- [ ] Correlation analysis (macro ↔ sentiment)\n",
    "- [ ] Granger causality tests\n",
    "- [ ] ARIMA modeling with sentiment features\n",
    "\n",
    "### Phase 3: Dashboard Development\n",
    "- [ ] Streamlit app structure\n",
    "- [ ] Real-time data pipeline\n",
    "- [ ] Interactive visualizations\n",
    "- [ ] Deployment to cloud platform"
   ]
  },
  {
   "cell_type": "code",
   "execution_count": 4,
   "id": "e0a57c41",
   "metadata": {},
   "outputs": [
    {
     "name": "stdout",
     "output_type": "stream",
     "text": [
      "🚀 Ready for FRED API integration!\n",
      "Next: Get your free API key from https://fred.stlouisfed.org/docs/api/api_key.html\n"
     ]
    }
   ],
   "source": [
    "# Next steps placeholder - will implement after FRED API setup\n",
    "def fetch_macro_data(start_date, end_date):\n",
    "    \"\"\"\n",
    "    Fetch macroeconomic indicators from FRED API\n",
    "    \n",
    "    Returns: DataFrame with macro indicators aligned to sentiment timeline\n",
    "    \"\"\"\n",
    "    # Implementation coming next...\n",
    "    pass\n",
    "\n",
    "def align_macro_sentiment(macro_df, sentiment_df):\n",
    "    \"\"\"\n",
    "    Merge macro and sentiment data on common time index\n",
    "    \n",
    "    Returns: Combined DataFrame ready for analysis\n",
    "    \"\"\"\n",
    "    # Implementation coming next...\n",
    "    pass\n",
    "\n",
    "print(\"🚀 Ready for FRED API integration!\")\n",
    "print(\"Next: Get your free API key from https://fred.stlouisfed.org/docs/api/api_key.html\")"
   ]
  }
 ],
 "metadata": {
  "kernelspec": {
   "display_name": "ceonlp",
   "language": "python",
   "name": "python3"
  },
  "language_info": {
   "codemirror_mode": {
    "name": "ipython",
    "version": 3
   },
   "file_extension": ".py",
   "mimetype": "text/x-python",
   "name": "python",
   "nbconvert_exporter": "python",
   "pygments_lexer": "ipython3",
   "version": "3.11.13"
  }
 },
 "nbformat": 4,
 "nbformat_minor": 5
}
