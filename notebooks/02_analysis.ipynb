{
 "cells": [
  {
   "cell_type": "code",
   "execution_count": null,
   "id": "e6000575",
   "metadata": {},
   "outputs": [],
   "source": [
    "import pandas as pd, numpy as np, seaborn as sns, matplotlib.pyplot as plt\n",
    "from transformers import pipeline\n",
    "import statsmodels.formula.api as smf\n",
    "from pathlib import Path\n",
    "\n",
    "posts=pd.read_parquet(\"../data_raw/reddit/rstocks_posts.parquet\")\n",
    "\n",
    "sent=pipeline(\"sentiment-analysis\",\n",
    "              model=\"cardiffnlp/twitter-roberta-base-sentiment\",\n",
    "              truncation=True)\n",
    "\n",
    "def score(txt):\n",
    "    lab=sent(txt[:512])[0][\"label\"]\n",
    "    return {\"NEGATIVE\":-1,\"NEUTRAL\":0,\"POSITIVE\":1}[lab]\n",
    "\n",
    "posts[\"sent\"]=posts[\"title\"].map(score)\n",
    "posts[\"created_dt\"]=pd.to_datetime(posts[\"created_utc\"]).dt.floor(\"D\")\n",
    "posts[\"rel_day\"]=(posts[\"created_dt\"]-posts[\"event_date\"]).dt.days\n",
    "Path(\"../data_proc\").mkdir(exist_ok=True)\n",
    "posts.to_parquet(\"../data_proc/rstocks_scored.parquet\")\n",
    "\n",
    "# aggregate & DiD\n",
    "daily=posts.groupby([\"ticker\",\"rel_day\"]).sent.mean().reset_index()\n",
    "daily[\"post\"]=daily.rel_day.gt(0).astype(int)\n",
    "model=smf.ols(\"sent ~ post + C(ticker)\", data=daily[(daily.rel_day!=0)]).fit()\n",
    "print(model.summary().tables[1])\n",
    "\n",
    "sns.lineplot(data=daily, x=\"rel_day\", y=\"sent\", hue=\"ticker\")\n",
    "plt.axvline(0,ls=\"--\"); plt.title(\"r/stocks sentiment around CEO change\"); plt.tight_layout()\n",
    "plt.savefig(\"../assets/sentiment_did.png\",dpi=160)\n"
   ]
  }
 ],
 "metadata": {
  "language_info": {
   "name": "python"
  }
 },
 "nbformat": 4,
 "nbformat_minor": 5
}
